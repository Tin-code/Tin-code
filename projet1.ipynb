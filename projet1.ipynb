{
  "nbformat": 4,
  "nbformat_minor": 0,
  "metadata": {
    "colab": {
      "name": "projet1.ipynb",
      "provenance": [],
      "collapsed_sections": [],
      "authorship_tag": "ABX9TyO0bjWGwZVbx3U3UHvmOg1e",
      "include_colab_link": true
    },
    "kernelspec": {
      "name": "python3",
      "display_name": "Python 3"
    },
    "language_info": {
      "name": "python"
    }
  },
  "cells": [
    {
      "cell_type": "markdown",
      "metadata": {
        "id": "view-in-github",
        "colab_type": "text"
      },
      "source": [
        "<a href=\"https://colab.research.google.com/github/Tin-code/Tin-code/blob/main/projet1.ipynb\" target=\"_parent\"><img src=\"https://colab.research.google.com/assets/colab-badge.svg\" alt=\"Open In Colab\"/></a>"
      ]
    },
    {
      "cell_type": "code",
      "metadata": {
        "id": "kBP_hcpvohMG"
      },
      "source": [
        "from google.colab import drive"
      ],
      "execution_count": 41,
      "outputs": []
    },
    {
      "cell_type": "code",
      "metadata": {
        "colab": {
          "base_uri": "https://localhost:8080/"
        },
        "id": "d60vo_F5o0_i",
        "outputId": "b94a2e3a-3858-4585-d428-464719ac5903"
      },
      "source": [
        "drive.mount('/content/gdrive')"
      ],
      "execution_count": 42,
      "outputs": [
        {
          "output_type": "stream",
          "name": "stdout",
          "text": [
            "Drive already mounted at /content/gdrive; to attempt to forcibly remount, call drive.mount(\"/content/gdrive\", force_remount=True).\n"
          ]
        }
      ]
    },
    {
      "cell_type": "code",
      "metadata": {
        "id": "FqnUrWeAo8A1"
      },
      "source": [
        "#importation des differents modules \n",
        "import numpy as np\n",
        "import pandas as pd\n",
        "import matplotlib.pyplot as plt"
      ],
      "execution_count": 43,
      "outputs": []
    },
    {
      "cell_type": "code",
      "metadata": {
        "id": "AH4BEFtFpYOA"
      },
      "source": [
        "#1-recuperation du dataset Coeur\n",
        "data = pd.read_excel(r'/content/gdrive/My Drive/Coeur.xlsx')"
      ],
      "execution_count": 44,
      "outputs": []
    },
    {
      "cell_type": "code",
      "metadata": {
        "id": "HDOxZiRPpx8S"
      },
      "source": [
        "#2-copie de data dans df \n",
        "df = data.copy()\n"
      ],
      "execution_count": 45,
      "outputs": []
    },
    {
      "cell_type": "code",
      "metadata": {
        "colab": {
          "base_uri": "https://localhost:8080/",
          "height": 424
        },
        "id": "8B0-7mqNqOgy",
        "outputId": "008f6767-9d7f-437c-a4d0-c04c19a10d9a"
      },
      "source": [
        "#3- Verifier s'il y a des doublons et les supprimer\n",
        "df.duplicated().sum()\n",
        "df.drop_duplicates()"
      ],
      "execution_count": 46,
      "outputs": [
        {
          "output_type": "execute_result",
          "data": {
            "text/html": [
              "<div>\n",
              "<style scoped>\n",
              "    .dataframe tbody tr th:only-of-type {\n",
              "        vertical-align: middle;\n",
              "    }\n",
              "\n",
              "    .dataframe tbody tr th {\n",
              "        vertical-align: top;\n",
              "    }\n",
              "\n",
              "    .dataframe thead th {\n",
              "        text-align: right;\n",
              "    }\n",
              "</style>\n",
              "<table border=\"1\" class=\"dataframe\">\n",
              "  <thead>\n",
              "    <tr style=\"text-align: right;\">\n",
              "      <th></th>\n",
              "      <th>AGE</th>\n",
              "      <th>SEXE</th>\n",
              "      <th>TDT</th>\n",
              "      <th>PAR</th>\n",
              "      <th>CHOLESTEROL</th>\n",
              "      <th>GAJ</th>\n",
              "      <th>ECG</th>\n",
              "      <th>FCMAX</th>\n",
              "      <th>ANGINE</th>\n",
              "      <th>DEPRESSION</th>\n",
              "      <th>PENTE</th>\n",
              "      <th>CŒUR</th>\n",
              "    </tr>\n",
              "  </thead>\n",
              "  <tbody>\n",
              "    <tr>\n",
              "      <th>0</th>\n",
              "      <td>40</td>\n",
              "      <td>homme</td>\n",
              "      <td>AA</td>\n",
              "      <td>140</td>\n",
              "      <td>289</td>\n",
              "      <td>0</td>\n",
              "      <td>Normal</td>\n",
              "      <td>172</td>\n",
              "      <td>Non</td>\n",
              "      <td>0.0</td>\n",
              "      <td>Ascendant</td>\n",
              "      <td>0</td>\n",
              "    </tr>\n",
              "    <tr>\n",
              "      <th>1</th>\n",
              "      <td>49</td>\n",
              "      <td>femme</td>\n",
              "      <td>DNA</td>\n",
              "      <td>160</td>\n",
              "      <td>180</td>\n",
              "      <td>0</td>\n",
              "      <td>Normal</td>\n",
              "      <td>156</td>\n",
              "      <td>Non</td>\n",
              "      <td>1.0</td>\n",
              "      <td>Plat</td>\n",
              "      <td>1</td>\n",
              "    </tr>\n",
              "    <tr>\n",
              "      <th>2</th>\n",
              "      <td>37</td>\n",
              "      <td>homme</td>\n",
              "      <td>AA</td>\n",
              "      <td>130</td>\n",
              "      <td>283</td>\n",
              "      <td>0</td>\n",
              "      <td>ST</td>\n",
              "      <td>98</td>\n",
              "      <td>Non</td>\n",
              "      <td>0.0</td>\n",
              "      <td>Ascendant</td>\n",
              "      <td>0</td>\n",
              "    </tr>\n",
              "    <tr>\n",
              "      <th>3</th>\n",
              "      <td>48</td>\n",
              "      <td>femme</td>\n",
              "      <td>ASY</td>\n",
              "      <td>138</td>\n",
              "      <td>214</td>\n",
              "      <td>0</td>\n",
              "      <td>Normal</td>\n",
              "      <td>108</td>\n",
              "      <td>Oui</td>\n",
              "      <td>1.5</td>\n",
              "      <td>Plat</td>\n",
              "      <td>1</td>\n",
              "    </tr>\n",
              "    <tr>\n",
              "      <th>4</th>\n",
              "      <td>54</td>\n",
              "      <td>homme</td>\n",
              "      <td>DNA</td>\n",
              "      <td>150</td>\n",
              "      <td>195</td>\n",
              "      <td>0</td>\n",
              "      <td>Normal</td>\n",
              "      <td>122</td>\n",
              "      <td>Non</td>\n",
              "      <td>0.0</td>\n",
              "      <td>Ascendant</td>\n",
              "      <td>0</td>\n",
              "    </tr>\n",
              "    <tr>\n",
              "      <th>...</th>\n",
              "      <td>...</td>\n",
              "      <td>...</td>\n",
              "      <td>...</td>\n",
              "      <td>...</td>\n",
              "      <td>...</td>\n",
              "      <td>...</td>\n",
              "      <td>...</td>\n",
              "      <td>...</td>\n",
              "      <td>...</td>\n",
              "      <td>...</td>\n",
              "      <td>...</td>\n",
              "      <td>...</td>\n",
              "    </tr>\n",
              "    <tr>\n",
              "      <th>913</th>\n",
              "      <td>45</td>\n",
              "      <td>homme</td>\n",
              "      <td>AT</td>\n",
              "      <td>110</td>\n",
              "      <td>264</td>\n",
              "      <td>0</td>\n",
              "      <td>Normal</td>\n",
              "      <td>132</td>\n",
              "      <td>Non</td>\n",
              "      <td>1.2</td>\n",
              "      <td>Plat</td>\n",
              "      <td>1</td>\n",
              "    </tr>\n",
              "    <tr>\n",
              "      <th>914</th>\n",
              "      <td>68</td>\n",
              "      <td>homme</td>\n",
              "      <td>ASY</td>\n",
              "      <td>144</td>\n",
              "      <td>193</td>\n",
              "      <td>1</td>\n",
              "      <td>Normal</td>\n",
              "      <td>141</td>\n",
              "      <td>Non</td>\n",
              "      <td>3.4</td>\n",
              "      <td>Plat</td>\n",
              "      <td>1</td>\n",
              "    </tr>\n",
              "    <tr>\n",
              "      <th>915</th>\n",
              "      <td>57</td>\n",
              "      <td>homme</td>\n",
              "      <td>ASY</td>\n",
              "      <td>130</td>\n",
              "      <td>131</td>\n",
              "      <td>0</td>\n",
              "      <td>Normal</td>\n",
              "      <td>115</td>\n",
              "      <td>Oui</td>\n",
              "      <td>1.2</td>\n",
              "      <td>Plat</td>\n",
              "      <td>1</td>\n",
              "    </tr>\n",
              "    <tr>\n",
              "      <th>916</th>\n",
              "      <td>57</td>\n",
              "      <td>femme</td>\n",
              "      <td>AA</td>\n",
              "      <td>130</td>\n",
              "      <td>236</td>\n",
              "      <td>0</td>\n",
              "      <td>LVH</td>\n",
              "      <td>174</td>\n",
              "      <td>Non</td>\n",
              "      <td>0.0</td>\n",
              "      <td>Plat</td>\n",
              "      <td>1</td>\n",
              "    </tr>\n",
              "    <tr>\n",
              "      <th>917</th>\n",
              "      <td>38</td>\n",
              "      <td>homme</td>\n",
              "      <td>DNA</td>\n",
              "      <td>138</td>\n",
              "      <td>175</td>\n",
              "      <td>0</td>\n",
              "      <td>Normal</td>\n",
              "      <td>173</td>\n",
              "      <td>Non</td>\n",
              "      <td>0.0</td>\n",
              "      <td>Ascendant</td>\n",
              "      <td>0</td>\n",
              "    </tr>\n",
              "  </tbody>\n",
              "</table>\n",
              "<p>918 rows × 12 columns</p>\n",
              "</div>"
            ],
            "text/plain": [
              "     AGE   SEXE  TDT  PAR  ...  ANGINE  DEPRESSION       PENTE  CŒUR\n",
              "0     40  homme   AA  140  ...     Non          0.0  Ascendant     0\n",
              "1     49  femme  DNA  160  ...     Non          1.0       Plat     1\n",
              "2     37  homme   AA  130  ...     Non          0.0  Ascendant     0\n",
              "3     48  femme  ASY  138  ...     Oui          1.5       Plat     1\n",
              "4     54  homme  DNA  150  ...     Non          0.0  Ascendant     0\n",
              "..   ...    ...  ...  ...  ...     ...          ...        ...   ...\n",
              "913   45  homme   AT  110  ...     Non          1.2       Plat     1\n",
              "914   68  homme  ASY  144  ...     Non          3.4       Plat     1\n",
              "915   57  homme  ASY  130  ...     Oui          1.2       Plat     1\n",
              "916   57  femme   AA  130  ...     Non          0.0       Plat     1\n",
              "917   38  homme  DNA  138  ...     Non          0.0  Ascendant     0\n",
              "\n",
              "[918 rows x 12 columns]"
            ]
          },
          "metadata": {},
          "execution_count": 46
        }
      ]
    },
    {
      "cell_type": "code",
      "metadata": {
        "id": "BoPL5mNqj54p",
        "colab": {
          "base_uri": "https://localhost:8080/"
        },
        "outputId": "88940737-b19b-4c1c-f4bc-14019772387c"
      },
      "source": [
        "#4- Verifier s'il existe des variables constante(variable avec une seule modalité)\n",
        "df.nunique()"
      ],
      "execution_count": 47,
      "outputs": [
        {
          "output_type": "execute_result",
          "data": {
            "text/plain": [
              "AGE             50\n",
              "SEXE             2\n",
              "TDT              4\n",
              "PAR             67\n",
              "CHOLESTEROL    222\n",
              "GAJ              2\n",
              "ECG              3\n",
              "FCMAX          119\n",
              "ANGINE           2\n",
              "DEPRESSION      53\n",
              "PENTE            3\n",
              "CŒUR             2\n",
              "dtype: int64"
            ]
          },
          "metadata": {},
          "execution_count": 47
        }
      ]
    },
    {
      "cell_type": "code",
      "metadata": {
        "colab": {
          "base_uri": "https://localhost:8080/"
        },
        "id": "zQ2pA0tcr3mV",
        "outputId": "56731366-1fbf-4226-a9dd-d873fa7b1b9e"
      },
      "source": [
        "#5-Verifier s'il y a des données manquante \n",
        "df.isna().sum()"
      ],
      "execution_count": 48,
      "outputs": [
        {
          "output_type": "execute_result",
          "data": {
            "text/plain": [
              "AGE            0\n",
              "SEXE           0\n",
              "TDT            0\n",
              "PAR            0\n",
              "CHOLESTEROL    0\n",
              "GAJ            0\n",
              "ECG            0\n",
              "FCMAX          0\n",
              "ANGINE         0\n",
              "DEPRESSION     0\n",
              "PENTE          0\n",
              "CŒUR           0\n",
              "dtype: int64"
            ]
          },
          "metadata": {},
          "execution_count": 48
        }
      ]
    },
    {
      "cell_type": "code",
      "metadata": {
        "id": "O6j1nLA6z7rq"
      },
      "source": [
        "#6- Normalisation des variables quantitatives \n",
        "var_quant = df.select_dtypes(exclude='object').drop('CŒUR', axis=1).columns\n",
        "for col in var_quant:\n",
        "  df[col] = pd.DataFrame(df[col]/df[col].mean())\n",
        "var_normale = df[var_quant]"
      ],
      "execution_count": 49,
      "outputs": []
    },
    {
      "cell_type": "code",
      "metadata": {
        "id": "fF2vdA5ACNfu"
      },
      "source": [
        "#7-Faire le recodage de toutes les variables qualitative\n",
        "def recod(params):\n",
        "  return params.astype('category').cat.codes"
      ],
      "execution_count": 50,
      "outputs": []
    },
    {
      "cell_type": "code",
      "metadata": {
        "id": "n56aT5fhCvjb"
      },
      "source": [
        "def recod_global(data):\n",
        "  for col in data.select_dtypes('object').columns:\n",
        "    data[col] = recod(data[col])\n",
        "    return data\n"
      ],
      "execution_count": 51,
      "outputs": []
    },
    {
      "cell_type": "code",
      "metadata": {
        "id": "IE88i8qHDSh0",
        "colab": {
          "base_uri": "https://localhost:8080/",
          "height": 424
        },
        "outputId": "0c9bd7ca-d6cd-4456-8b67-2e2d8c025406"
      },
      "source": [
        "recod_global(df)"
      ],
      "execution_count": 61,
      "outputs": [
        {
          "output_type": "execute_result",
          "data": {
            "text/html": [
              "<div>\n",
              "<style scoped>\n",
              "    .dataframe tbody tr th:only-of-type {\n",
              "        vertical-align: middle;\n",
              "    }\n",
              "\n",
              "    .dataframe tbody tr th {\n",
              "        vertical-align: top;\n",
              "    }\n",
              "\n",
              "    .dataframe thead th {\n",
              "        text-align: right;\n",
              "    }\n",
              "</style>\n",
              "<table border=\"1\" class=\"dataframe\">\n",
              "  <thead>\n",
              "    <tr style=\"text-align: right;\">\n",
              "      <th></th>\n",
              "      <th>AGE</th>\n",
              "      <th>SEXE</th>\n",
              "      <th>TDT</th>\n",
              "      <th>PAR</th>\n",
              "      <th>CHOLESTEROL</th>\n",
              "      <th>GAJ</th>\n",
              "      <th>ECG</th>\n",
              "      <th>FCMAX</th>\n",
              "      <th>ANGINE</th>\n",
              "      <th>DEPRESSION</th>\n",
              "      <th>PENTE</th>\n",
              "      <th>CŒUR</th>\n",
              "    </tr>\n",
              "  </thead>\n",
              "  <tbody>\n",
              "    <tr>\n",
              "      <th>0</th>\n",
              "      <td>0.747511</td>\n",
              "      <td>1</td>\n",
              "      <td>0</td>\n",
              "      <td>1.057430</td>\n",
              "      <td>1.453726</td>\n",
              "      <td>0.00000</td>\n",
              "      <td>1</td>\n",
              "      <td>1.257224</td>\n",
              "      <td>0</td>\n",
              "      <td>0.000000</td>\n",
              "      <td>0</td>\n",
              "      <td>0</td>\n",
              "    </tr>\n",
              "    <tr>\n",
              "      <th>1</th>\n",
              "      <td>0.915701</td>\n",
              "      <td>0</td>\n",
              "      <td>3</td>\n",
              "      <td>1.208491</td>\n",
              "      <td>0.905435</td>\n",
              "      <td>0.00000</td>\n",
              "      <td>1</td>\n",
              "      <td>1.140273</td>\n",
              "      <td>0</td>\n",
              "      <td>1.126933</td>\n",
              "      <td>2</td>\n",
              "      <td>1</td>\n",
              "    </tr>\n",
              "    <tr>\n",
              "      <th>2</th>\n",
              "      <td>0.691448</td>\n",
              "      <td>1</td>\n",
              "      <td>0</td>\n",
              "      <td>0.981899</td>\n",
              "      <td>1.423544</td>\n",
              "      <td>0.00000</td>\n",
              "      <td>2</td>\n",
              "      <td>0.716325</td>\n",
              "      <td>0</td>\n",
              "      <td>0.000000</td>\n",
              "      <td>0</td>\n",
              "      <td>0</td>\n",
              "    </tr>\n",
              "    <tr>\n",
              "      <th>3</th>\n",
              "      <td>0.897014</td>\n",
              "      <td>0</td>\n",
              "      <td>1</td>\n",
              "      <td>1.042324</td>\n",
              "      <td>1.076461</td>\n",
              "      <td>0.00000</td>\n",
              "      <td>1</td>\n",
              "      <td>0.789420</td>\n",
              "      <td>1</td>\n",
              "      <td>1.690400</td>\n",
              "      <td>2</td>\n",
              "      <td>1</td>\n",
              "    </tr>\n",
              "    <tr>\n",
              "      <th>4</th>\n",
              "      <td>1.009140</td>\n",
              "      <td>1</td>\n",
              "      <td>3</td>\n",
              "      <td>1.132960</td>\n",
              "      <td>0.980887</td>\n",
              "      <td>0.00000</td>\n",
              "      <td>1</td>\n",
              "      <td>0.891752</td>\n",
              "      <td>0</td>\n",
              "      <td>0.000000</td>\n",
              "      <td>0</td>\n",
              "      <td>0</td>\n",
              "    </tr>\n",
              "    <tr>\n",
              "      <th>...</th>\n",
              "      <td>...</td>\n",
              "      <td>...</td>\n",
              "      <td>...</td>\n",
              "      <td>...</td>\n",
              "      <td>...</td>\n",
              "      <td>...</td>\n",
              "      <td>...</td>\n",
              "      <td>...</td>\n",
              "      <td>...</td>\n",
              "      <td>...</td>\n",
              "      <td>...</td>\n",
              "      <td>...</td>\n",
              "    </tr>\n",
              "    <tr>\n",
              "      <th>913</th>\n",
              "      <td>0.840950</td>\n",
              "      <td>1</td>\n",
              "      <td>2</td>\n",
              "      <td>0.830838</td>\n",
              "      <td>1.327971</td>\n",
              "      <td>0.00000</td>\n",
              "      <td>1</td>\n",
              "      <td>0.964846</td>\n",
              "      <td>0</td>\n",
              "      <td>1.352320</td>\n",
              "      <td>2</td>\n",
              "      <td>1</td>\n",
              "    </tr>\n",
              "    <tr>\n",
              "      <th>914</th>\n",
              "      <td>1.270769</td>\n",
              "      <td>1</td>\n",
              "      <td>1</td>\n",
              "      <td>1.087642</td>\n",
              "      <td>0.970827</td>\n",
              "      <td>4.28972</td>\n",
              "      <td>1</td>\n",
              "      <td>1.030631</td>\n",
              "      <td>0</td>\n",
              "      <td>3.831574</td>\n",
              "      <td>2</td>\n",
              "      <td>1</td>\n",
              "    </tr>\n",
              "    <tr>\n",
              "      <th>915</th>\n",
              "      <td>1.065204</td>\n",
              "      <td>1</td>\n",
              "      <td>1</td>\n",
              "      <td>0.981899</td>\n",
              "      <td>0.658955</td>\n",
              "      <td>0.00000</td>\n",
              "      <td>1</td>\n",
              "      <td>0.840586</td>\n",
              "      <td>1</td>\n",
              "      <td>1.352320</td>\n",
              "      <td>2</td>\n",
              "      <td>1</td>\n",
              "    </tr>\n",
              "    <tr>\n",
              "      <th>916</th>\n",
              "      <td>1.065204</td>\n",
              "      <td>0</td>\n",
              "      <td>0</td>\n",
              "      <td>0.981899</td>\n",
              "      <td>1.187125</td>\n",
              "      <td>0.00000</td>\n",
              "      <td>0</td>\n",
              "      <td>1.271843</td>\n",
              "      <td>0</td>\n",
              "      <td>0.000000</td>\n",
              "      <td>2</td>\n",
              "      <td>1</td>\n",
              "    </tr>\n",
              "    <tr>\n",
              "      <th>917</th>\n",
              "      <td>0.710136</td>\n",
              "      <td>1</td>\n",
              "      <td>3</td>\n",
              "      <td>1.042324</td>\n",
              "      <td>0.880284</td>\n",
              "      <td>0.00000</td>\n",
              "      <td>1</td>\n",
              "      <td>1.264533</td>\n",
              "      <td>0</td>\n",
              "      <td>0.000000</td>\n",
              "      <td>0</td>\n",
              "      <td>0</td>\n",
              "    </tr>\n",
              "  </tbody>\n",
              "</table>\n",
              "<p>918 rows × 12 columns</p>\n",
              "</div>"
            ],
            "text/plain": [
              "          AGE  SEXE  TDT       PAR  ...  ANGINE  DEPRESSION   PENTE  CŒUR\n",
              "0    0.747511     1    0  1.057430  ...       0     0.000000      0     0\n",
              "1    0.915701     0    3  1.208491  ...       0     1.126933      2     1\n",
              "2    0.691448     1    0  0.981899  ...       0     0.000000      0     0\n",
              "3    0.897014     0    1  1.042324  ...       1     1.690400      2     1\n",
              "4    1.009140     1    3  1.132960  ...       0     0.000000      0     0\n",
              "..        ...   ...  ...       ...  ...     ...          ...    ...   ...\n",
              "913  0.840950     1    2  0.830838  ...       0     1.352320      2     1\n",
              "914  1.270769     1    1  1.087642  ...       0     3.831574      2     1\n",
              "915  1.065204     1    1  0.981899  ...       1     1.352320      2     1\n",
              "916  1.065204     0    0  0.981899  ...       0     0.000000      2     1\n",
              "917  0.710136     1    3  1.042324  ...       0     0.000000      0     0\n",
              "\n",
              "[918 rows x 12 columns]"
            ]
          },
          "metadata": {},
          "execution_count": 61
        }
      ]
    },
    {
      "cell_type": "code",
      "metadata": {
        "colab": {
          "base_uri": "https://localhost:8080/",
          "height": 424
        },
        "id": "OlaWguGuEV6w",
        "outputId": "4e68740d-35d3-4ce5-9f79-f8c67e7c858e"
      },
      "source": [
        "#8-Separation des données \n",
        "\n",
        "Y = df[['CŒUR']]\n",
        "X = df[['AGE','SEXE','TDT', 'PAR','CHOLESTEROL','GAJ','ECG','FCMAX','ANGINE','DEPRESSION ','PENTE']]\n",
        "X"
      ],
      "execution_count": 62,
      "outputs": [
        {
          "output_type": "execute_result",
          "data": {
            "text/html": [
              "<div>\n",
              "<style scoped>\n",
              "    .dataframe tbody tr th:only-of-type {\n",
              "        vertical-align: middle;\n",
              "    }\n",
              "\n",
              "    .dataframe tbody tr th {\n",
              "        vertical-align: top;\n",
              "    }\n",
              "\n",
              "    .dataframe thead th {\n",
              "        text-align: right;\n",
              "    }\n",
              "</style>\n",
              "<table border=\"1\" class=\"dataframe\">\n",
              "  <thead>\n",
              "    <tr style=\"text-align: right;\">\n",
              "      <th></th>\n",
              "      <th>AGE</th>\n",
              "      <th>SEXE</th>\n",
              "      <th>TDT</th>\n",
              "      <th>PAR</th>\n",
              "      <th>CHOLESTEROL</th>\n",
              "      <th>GAJ</th>\n",
              "      <th>ECG</th>\n",
              "      <th>FCMAX</th>\n",
              "      <th>ANGINE</th>\n",
              "      <th>DEPRESSION</th>\n",
              "      <th>PENTE</th>\n",
              "    </tr>\n",
              "  </thead>\n",
              "  <tbody>\n",
              "    <tr>\n",
              "      <th>0</th>\n",
              "      <td>0.747511</td>\n",
              "      <td>1</td>\n",
              "      <td>0</td>\n",
              "      <td>1.057430</td>\n",
              "      <td>1.453726</td>\n",
              "      <td>0.00000</td>\n",
              "      <td>1</td>\n",
              "      <td>1.257224</td>\n",
              "      <td>0</td>\n",
              "      <td>0.000000</td>\n",
              "      <td>0</td>\n",
              "    </tr>\n",
              "    <tr>\n",
              "      <th>1</th>\n",
              "      <td>0.915701</td>\n",
              "      <td>0</td>\n",
              "      <td>3</td>\n",
              "      <td>1.208491</td>\n",
              "      <td>0.905435</td>\n",
              "      <td>0.00000</td>\n",
              "      <td>1</td>\n",
              "      <td>1.140273</td>\n",
              "      <td>0</td>\n",
              "      <td>1.126933</td>\n",
              "      <td>2</td>\n",
              "    </tr>\n",
              "    <tr>\n",
              "      <th>2</th>\n",
              "      <td>0.691448</td>\n",
              "      <td>1</td>\n",
              "      <td>0</td>\n",
              "      <td>0.981899</td>\n",
              "      <td>1.423544</td>\n",
              "      <td>0.00000</td>\n",
              "      <td>2</td>\n",
              "      <td>0.716325</td>\n",
              "      <td>0</td>\n",
              "      <td>0.000000</td>\n",
              "      <td>0</td>\n",
              "    </tr>\n",
              "    <tr>\n",
              "      <th>3</th>\n",
              "      <td>0.897014</td>\n",
              "      <td>0</td>\n",
              "      <td>1</td>\n",
              "      <td>1.042324</td>\n",
              "      <td>1.076461</td>\n",
              "      <td>0.00000</td>\n",
              "      <td>1</td>\n",
              "      <td>0.789420</td>\n",
              "      <td>1</td>\n",
              "      <td>1.690400</td>\n",
              "      <td>2</td>\n",
              "    </tr>\n",
              "    <tr>\n",
              "      <th>4</th>\n",
              "      <td>1.009140</td>\n",
              "      <td>1</td>\n",
              "      <td>3</td>\n",
              "      <td>1.132960</td>\n",
              "      <td>0.980887</td>\n",
              "      <td>0.00000</td>\n",
              "      <td>1</td>\n",
              "      <td>0.891752</td>\n",
              "      <td>0</td>\n",
              "      <td>0.000000</td>\n",
              "      <td>0</td>\n",
              "    </tr>\n",
              "    <tr>\n",
              "      <th>...</th>\n",
              "      <td>...</td>\n",
              "      <td>...</td>\n",
              "      <td>...</td>\n",
              "      <td>...</td>\n",
              "      <td>...</td>\n",
              "      <td>...</td>\n",
              "      <td>...</td>\n",
              "      <td>...</td>\n",
              "      <td>...</td>\n",
              "      <td>...</td>\n",
              "      <td>...</td>\n",
              "    </tr>\n",
              "    <tr>\n",
              "      <th>913</th>\n",
              "      <td>0.840950</td>\n",
              "      <td>1</td>\n",
              "      <td>2</td>\n",
              "      <td>0.830838</td>\n",
              "      <td>1.327971</td>\n",
              "      <td>0.00000</td>\n",
              "      <td>1</td>\n",
              "      <td>0.964846</td>\n",
              "      <td>0</td>\n",
              "      <td>1.352320</td>\n",
              "      <td>2</td>\n",
              "    </tr>\n",
              "    <tr>\n",
              "      <th>914</th>\n",
              "      <td>1.270769</td>\n",
              "      <td>1</td>\n",
              "      <td>1</td>\n",
              "      <td>1.087642</td>\n",
              "      <td>0.970827</td>\n",
              "      <td>4.28972</td>\n",
              "      <td>1</td>\n",
              "      <td>1.030631</td>\n",
              "      <td>0</td>\n",
              "      <td>3.831574</td>\n",
              "      <td>2</td>\n",
              "    </tr>\n",
              "    <tr>\n",
              "      <th>915</th>\n",
              "      <td>1.065204</td>\n",
              "      <td>1</td>\n",
              "      <td>1</td>\n",
              "      <td>0.981899</td>\n",
              "      <td>0.658955</td>\n",
              "      <td>0.00000</td>\n",
              "      <td>1</td>\n",
              "      <td>0.840586</td>\n",
              "      <td>1</td>\n",
              "      <td>1.352320</td>\n",
              "      <td>2</td>\n",
              "    </tr>\n",
              "    <tr>\n",
              "      <th>916</th>\n",
              "      <td>1.065204</td>\n",
              "      <td>0</td>\n",
              "      <td>0</td>\n",
              "      <td>0.981899</td>\n",
              "      <td>1.187125</td>\n",
              "      <td>0.00000</td>\n",
              "      <td>0</td>\n",
              "      <td>1.271843</td>\n",
              "      <td>0</td>\n",
              "      <td>0.000000</td>\n",
              "      <td>2</td>\n",
              "    </tr>\n",
              "    <tr>\n",
              "      <th>917</th>\n",
              "      <td>0.710136</td>\n",
              "      <td>1</td>\n",
              "      <td>3</td>\n",
              "      <td>1.042324</td>\n",
              "      <td>0.880284</td>\n",
              "      <td>0.00000</td>\n",
              "      <td>1</td>\n",
              "      <td>1.264533</td>\n",
              "      <td>0</td>\n",
              "      <td>0.000000</td>\n",
              "      <td>0</td>\n",
              "    </tr>\n",
              "  </tbody>\n",
              "</table>\n",
              "<p>918 rows × 11 columns</p>\n",
              "</div>"
            ],
            "text/plain": [
              "          AGE  SEXE  TDT       PAR  ...     FCMAX  ANGINE  DEPRESSION   PENTE\n",
              "0    0.747511     1    0  1.057430  ...  1.257224       0     0.000000      0\n",
              "1    0.915701     0    3  1.208491  ...  1.140273       0     1.126933      2\n",
              "2    0.691448     1    0  0.981899  ...  0.716325       0     0.000000      0\n",
              "3    0.897014     0    1  1.042324  ...  0.789420       1     1.690400      2\n",
              "4    1.009140     1    3  1.132960  ...  0.891752       0     0.000000      0\n",
              "..        ...   ...  ...       ...  ...       ...     ...          ...    ...\n",
              "913  0.840950     1    2  0.830838  ...  0.964846       0     1.352320      2\n",
              "914  1.270769     1    1  1.087642  ...  1.030631       0     3.831574      2\n",
              "915  1.065204     1    1  0.981899  ...  0.840586       1     1.352320      2\n",
              "916  1.065204     0    0  0.981899  ...  1.271843       0     0.000000      2\n",
              "917  0.710136     1    3  1.042324  ...  1.264533       0     0.000000      0\n",
              "\n",
              "[918 rows x 11 columns]"
            ]
          },
          "metadata": {},
          "execution_count": 62
        }
      ]
    },
    {
      "cell_type": "code",
      "metadata": {
        "id": "EKuyHeaWEzuA"
      },
      "source": [
        "#9-Utilisation de la fonction train_test_split du module model_selection de sklearn\n",
        "\n",
        "from sklearn.model_selection import train_test_split"
      ],
      "execution_count": 63,
      "outputs": []
    },
    {
      "cell_type": "code",
      "metadata": {
        "colab": {
          "base_uri": "https://localhost:8080/"
        },
        "id": "1BR2LyRyIDdY",
        "outputId": "6ed4e278-3fc8-42b0-90ac-c68d6c97ecf1"
      },
      "source": [
        "X_train, X_test, y_train, y_test = train_test_split(X,Y, test_size=0.2,random_state=1)\n",
        "print('Train_set :',X_train.shape)\n",
        "print('test_set :',X_test.shape)"
      ],
      "execution_count": 75,
      "outputs": [
        {
          "output_type": "stream",
          "name": "stdout",
          "text": [
            "Train_set : (734, 11)\n",
            "test_set : (184, 11)\n"
          ]
        }
      ]
    },
    {
      "cell_type": "code",
      "metadata": {
        "id": "N1mH0csBJgtm"
      },
      "source": [
        "#10-Regression logistique \n",
        "from sklearn.linear_model import LogisticRegression"
      ],
      "execution_count": 76,
      "outputs": []
    },
    {
      "cell_type": "code",
      "metadata": {
        "colab": {
          "base_uri": "https://localhost:8080/"
        },
        "id": "IrNEdtKhQxy9",
        "outputId": "b559810a-3ab9-4c0e-c117-7c88df1cc5c7"
      },
      "source": [
        "logReg = LogisticRegression()\n",
        "logReg.fit(X_train, y_train)"
      ],
      "execution_count": 77,
      "outputs": [
        {
          "output_type": "stream",
          "name": "stderr",
          "text": [
            "/usr/local/lib/python3.7/dist-packages/sklearn/utils/validation.py:985: DataConversionWarning: A column-vector y was passed when a 1d array was expected. Please change the shape of y to (n_samples, ), for example using ravel().\n",
            "  y = column_or_1d(y, warn=True)\n"
          ]
        },
        {
          "output_type": "execute_result",
          "data": {
            "text/plain": [
              "LogisticRegression()"
            ]
          },
          "metadata": {},
          "execution_count": 77
        }
      ]
    },
    {
      "cell_type": "code",
      "metadata": {
        "colab": {
          "base_uri": "https://localhost:8080/"
        },
        "id": "n_sZ0kMxE7DD",
        "outputId": "f1943c45-aecb-4632-80cc-f35593aeaf1b"
      },
      "source": [
        "#11- Affichage de la probabilité d'appartenance à chacune des classes de la variable coeur\n",
        "\n",
        "logReg.predict_proba(X_test[:5])"
      ],
      "execution_count": 78,
      "outputs": [
        {
          "output_type": "execute_result",
          "data": {
            "text/plain": [
              "array([[0.32777726, 0.67222274],\n",
              "       [0.17504272, 0.82495728],\n",
              "       [0.03672641, 0.96327359],\n",
              "       [0.08969688, 0.91030312],\n",
              "       [0.23290901, 0.76709099]])"
            ]
          },
          "metadata": {},
          "execution_count": 78
        }
      ]
    },
    {
      "cell_type": "code",
      "metadata": {
        "colab": {
          "base_uri": "https://localhost:8080/"
        },
        "id": "5u7tr-A7FKsN",
        "outputId": "89e8b85c-0e1d-46de-84e3-de43faf693e0"
      },
      "source": [
        "#12- Prediction de la classe d'appartenance de chaque individu de X_test\n",
        "y_pred = logReg.predict(X_test)\n",
        "y_pred"
      ],
      "execution_count": 79,
      "outputs": [
        {
          "output_type": "execute_result",
          "data": {
            "text/plain": [
              "array([1, 1, 1, 1, 1, 0, 1, 0, 0, 1, 0, 0, 1, 1, 1, 0, 1, 0, 1, 1, 1, 0,\n",
              "       1, 0, 1, 1, 0, 1, 1, 0, 0, 0, 0, 0, 1, 1, 1, 1, 0, 0, 1, 1, 1, 0,\n",
              "       0, 0, 1, 0, 0, 1, 0, 1, 1, 0, 1, 0, 1, 0, 1, 0, 1, 1, 1, 0, 0, 1,\n",
              "       1, 1, 0, 1, 1, 0, 1, 1, 0, 1, 0, 1, 1, 1, 1, 1, 1, 1, 1, 1, 0, 0,\n",
              "       0, 0, 1, 1, 0, 1, 1, 1, 1, 1, 1, 0, 1, 0, 1, 1, 1, 0, 0, 0, 1, 0,\n",
              "       0, 1, 0, 0, 0, 0, 1, 0, 0, 1, 1, 1, 1, 0, 1, 0, 1, 0, 1, 1, 0, 1,\n",
              "       0, 1, 1, 1, 1, 1, 0, 1, 1, 0, 0, 1, 1, 1, 1, 1, 1, 1, 1, 0, 0, 0,\n",
              "       0, 1, 0, 1, 1, 1, 1, 1, 1, 0, 1, 0, 0, 1, 1, 1, 0, 1, 1, 1, 1, 1,\n",
              "       0, 0, 1, 0, 1, 0, 0, 0])"
            ]
          },
          "metadata": {},
          "execution_count": 79
        }
      ]
    },
    {
      "cell_type": "markdown",
      "metadata": {
        "id": "OCCX4BV-KBMW"
      },
      "source": [
        "#13- Matrice de confusion, taux de succès, sensibilité et précision du model"
      ]
    },
    {
      "cell_type": "code",
      "metadata": {
        "id": "6Mca5sgdKD6V",
        "colab": {
          "base_uri": "https://localhost:8080/"
        },
        "outputId": "2fee88b4-5fc0-491d-b158-145ffbe12afe"
      },
      "source": [
        "# Matrice de confusion\n",
        "from sklearn.metrics import confusion_matrix\n",
        "mat_conf = confusion_matrix(y_pred,y_test)\n",
        "mat_conf"
      ],
      "execution_count": 80,
      "outputs": [
        {
          "output_type": "execute_result",
          "data": {
            "text/plain": [
              "array([[ 66,   8],\n",
              "       [  8, 102]])"
            ]
          },
          "metadata": {},
          "execution_count": 80
        }
      ]
    },
    {
      "cell_type": "code",
      "metadata": {
        "id": "RWfdkZIwPTrB",
        "colab": {
          "base_uri": "https://localhost:8080/"
        },
        "outputId": "e902da9b-58be-42df-ae84-315db07ba7c0"
      },
      "source": [
        "#accuracy_score \n",
        "from sklearn.metrics import accuracy_score\n",
        "acc_score = accuracy_score(y_pred,y_test)\n",
        "acc_score"
      ],
      "execution_count": 81,
      "outputs": [
        {
          "output_type": "execute_result",
          "data": {
            "text/plain": [
              "0.9130434782608695"
            ]
          },
          "metadata": {},
          "execution_count": 81
        }
      ]
    },
    {
      "cell_type": "code",
      "metadata": {
        "id": "KfEtXQoMkxr2",
        "colab": {
          "base_uri": "https://localhost:8080/"
        },
        "outputId": "6992e8b9-38e2-4837-c0b9-fa9e5c24ba49"
      },
      "source": [
        "#recall score \n",
        "from sklearn.metrics import recall_score\n",
        "rec_score = recall_score(y_pred,y_test)\n",
        "rec_score"
      ],
      "execution_count": 82,
      "outputs": [
        {
          "output_type": "execute_result",
          "data": {
            "text/plain": [
              "0.9272727272727272"
            ]
          },
          "metadata": {},
          "execution_count": 82
        }
      ]
    },
    {
      "cell_type": "code",
      "metadata": {
        "colab": {
          "base_uri": "https://localhost:8080/"
        },
        "id": "e1Vk_-Yp9Mjq",
        "outputId": "bf3a4aec-cdc7-47c0-ac95-143a665bb3a1"
      },
      "source": [
        "#precision score\n",
        "from sklearn.metrics import precision_score\n",
        "prec_score = precision_score(y_pred,y_test)\n",
        "prec_score"
      ],
      "execution_count": 83,
      "outputs": [
        {
          "output_type": "execute_result",
          "data": {
            "text/plain": [
              "0.9272727272727272"
            ]
          },
          "metadata": {},
          "execution_count": 83
        }
      ]
    },
    {
      "cell_type": "code",
      "metadata": {
        "id": "Da8kB62xSlgb"
      },
      "source": [
        "#Enrégistrement du model pour pouvoir le déployer\n",
        "import pickle\n",
        "pickle.dump(logReg,open('model.pkl','wb'),protocol=2)"
      ],
      "execution_count": 84,
      "outputs": []
    },
    {
      "cell_type": "code",
      "metadata": {
        "colab": {
          "base_uri": "https://localhost:8080/",
          "height": 319
        },
        "id": "Z5txqbkl8g_B",
        "outputId": "9974086b-05ca-4f0a-dc87-a05aa4a6f6b4"
      },
      "source": [
        "#Affichage de l'histogramme des variables quantitatives\n",
        "quant = ['AGE','PAR','CHOLESTEROL', 'FCMAX', 'DEPRESSION ']\n",
        "plt.figure(tight_layout = True, figsize = (15,8))\n",
        "plt.suptitle(\"HISTOGRAMMES DES VARIABLES QUANTITATIVES\")\n",
        "for y,x in enumerate(quant):\n",
        "    plt.subplot(2,5,y+1)\n",
        "    plt.hist(df[x])\n",
        "    plt.title(f\"{quant[y]}\")\n",
        "plt.show()"
      ],
      "execution_count": 85,
      "outputs": [
        {
          "output_type": "display_data",
          "data": {
            "image/png": "[encoded data removed]",
            "text/plain": [
              "<Figure size 1080x576 with 5 Axes>"
            ]
          },
          "metadata": {
            "needs_background": "light"
          }
        }
      ]
    },
    {
      "cell_type": "code",
      "metadata": {
        "colab": {
          "base_uri": "https://localhost:8080/",
          "height": 420
        },
        "id": "-OHwD1ql67LD",
        "outputId": "f09759a0-b7c4-49ab-e015-c3f6372e5b56"
      },
      "source": [
        "# Affichage du diagramme circulaire des variables qualitatives\n",
        "qual = ['SEXE', 'TDT', 'GAJ', 'ECG', 'ANGINE', 'PENTE', 'CŒUR'] # la liste des variables qualitatives\n",
        "plt.figure(tight_layout = True, figsize = (14,6))\n",
        "plt.suptitle(\"LES DIAGRAMMES CIRCULAIRE DES VARIABLES QUALITATIVES\")\n",
        "for y,x in enumerate(qual):\n",
        "    eff = df[x].value_counts()\n",
        "    modalite = df[x].unique()\n",
        "    plt.subplot(2,4,y+1)\n",
        "    plt.pie(eff, labels = modalite, autopct = '%1.1f%%')\n",
        "    plt.legend(bbox_to_anchor = (0, 1))\n",
        "    plt.title(f\"{qual[y]}\")\n",
        "plt.show()"
      ],
      "execution_count": 86,
      "outputs": [
        {
          "output_type": "display_data",
          "data": {
            "image/png": "[encoded data removed]",
            "text/plain": [
              "<Figure size 1008x432 with 7 Axes>"
            ]
          },
          "metadata": {}
        }
      ]
    }
  ]
}